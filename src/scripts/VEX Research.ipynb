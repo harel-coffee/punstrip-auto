{
 "cells": [
  {
   "cell_type": "code",
   "execution_count": 1,
   "metadata": {},
   "outputs": [],
   "source": [
    "import binascii\n",
    "import archinfo\n",
    "import pyvex"
   ]
  },
  {
   "cell_type": "code",
   "execution_count": 91,
   "metadata": {},
   "outputs": [],
   "source": [
    "bin_str = \"4155415455534883ec28488b05d7242b004885c00f85f60000004885ff7428488b47f8488d77f0a802752da804bf60996d00740c4889f04825000000fc488b3831d2e8c9baffff4883c4285b5d415c\""
   ]
  },
  {
   "cell_type": "code",
   "execution_count": 98,
   "metadata": {},
   "outputs": [],
   "source": [
    "bin_str = \"48a13412080000000000c3\""
   ]
  },
  {
   "cell_type": "code",
   "execution_count": 99,
   "metadata": {},
   "outputs": [
    {
     "name": "stdout",
     "output_type": "stream",
     "text": [
      "b'H\\xa14\\x12\\x08\\x00\\x00\\x00\\x00\\x00\\xc3'\n"
     ]
    }
   ],
   "source": [
    "bin_d = binascii.unhexlify(bin_str)\n",
    "print( bin_d )"
   ]
  },
  {
   "cell_type": "code",
   "execution_count": 100,
   "metadata": {},
   "outputs": [],
   "source": [
    "irsb = pyvex.IRSB( bin_d, 0x400000, archinfo.ArchAMD64())"
   ]
  },
  {
   "cell_type": "code",
   "execution_count": 101,
   "metadata": {},
   "outputs": [
    {
     "name": "stdout",
     "output_type": "stream",
     "text": [
      "IRSB {\n",
      "   t0:Ity_I64 t1:Ity_I64 t2:Ity_I64 t3:Ity_I64 t4:Ity_I64 t5:Ity_I64 t6:Ity_I64\n",
      "\n",
      "   00 | ------ IMark(0x400000, 10, 0) ------\n",
      "   01 | t4 = LDle:I64(0x0000000000081234)\n",
      "   02 | PUT(rax) = t4\n",
      "   03 | PUT(pc) = 0x000000000040000a\n",
      "   04 | ------ IMark(0x40000a, 1, 0) ------\n",
      "   05 | t1 = GET:I64(rsp)\n",
      "   06 | t2 = LDle:I64(t1)\n",
      "   07 | t3 = Add64(t1,0x0000000000000008)\n",
      "   08 | PUT(rsp) = t3\n",
      "   09 | t5 = Sub64(t3,0x0000000000000080)\n",
      "   10 | ====== AbiHint(0xt5, 128, t2) ======\n",
      "   NEXT: PUT(rip) = t2; Ijk_Ret\n",
      "}\n",
      "None\n"
     ]
    }
   ],
   "source": [
    "print(irsb.pp())"
   ]
  },
  {
   "cell_type": "code",
   "execution_count": 110,
   "metadata": {},
   "outputs": [
    {
     "name": "stdout",
     "output_type": "stream",
     "text": [
      "INSTR: Ist_IMark :: ------ IMark(0x400000, 10, 0) ------\n",
      "INSTR: Ist_WrTmp :: t4 = LDle:I64(0x0000000000081234)\n",
      "INSTR: Ist_Put :: PUT(offset=16) = t4\n",
      "INSTR: Ist_Put :: PUT(offset=184) = 0x000000000040000a\n",
      "INSTR: Ist_IMark :: ------ IMark(0x40000a, 1, 0) ------\n",
      "INSTR: Ist_WrTmp :: t1 = GET:I64(offset=48)\n",
      "INSTR: Ist_WrTmp :: t2 = LDle:I64(t1)\n",
      "INSTR: Ist_WrTmp :: t3 = Add64(t1,0x0000000000000008)\n",
      "INSTR: Ist_Put :: PUT(offset=48) = t3\n",
      "INSTR: Ist_WrTmp :: t5 = Sub64(t3,0x0000000000000080)\n",
      "INSTR: Ist_AbiHint :: ====== AbiHint(0xt5, 128, t2) ======\n"
     ]
    }
   ],
   "source": [
    "for i in irsb.statements:\n",
    "    #help(type(i))\n",
    "    print( \"INSTR: {} :: {}\".format(i.tag, i) )"
   ]
  },
  {
   "cell_type": "code",
   "execution_count": 103,
   "metadata": {},
   "outputs": [
    {
     "name": "stdout",
     "output_type": "stream",
     "text": [
      "0x0000000000081234\n",
      "0x0000000000081234\n",
      "0x0000000000000008\n",
      "0x0000000000000080\n"
     ]
    }
   ],
   "source": [
    "for i in irsb.constants:\n",
    "    print(i)\n",
    "    "
   ]
  },
  {
   "cell_type": "code",
   "execution_count": 104,
   "metadata": {},
   "outputs": [],
   "source": [
    "for i in irsb.constant_jump_targets:\n",
    "    print(i)\n",
    "    "
   ]
  },
  {
   "cell_type": "code",
   "execution_count": null,
   "metadata": {},
   "outputs": [],
   "source": []
  },
  {
   "cell_type": "code",
   "execution_count": null,
   "metadata": {},
   "outputs": [],
   "source": []
  },
  {
   "cell_type": "code",
   "execution_count": null,
   "metadata": {},
   "outputs": [],
   "source": []
  }
 ],
 "metadata": {
  "kernelspec": {
   "display_name": "Python 3",
   "language": "python",
   "name": "python3"
  },
  "language_info": {
   "codemirror_mode": {
    "name": "ipython",
    "version": 3
   },
   "file_extension": ".py",
   "mimetype": "text/x-python",
   "name": "python",
   "nbconvert_exporter": "python",
   "pygments_lexer": "ipython3",
   "version": "3.6.3"
  }
 },
 "nbformat": 4,
 "nbformat_minor": 2
}
