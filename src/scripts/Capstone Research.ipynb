{
 "cells": [
  {
   "cell_type": "code",
   "execution_count": 3,
   "metadata": {},
   "outputs": [],
   "source": [
    "import binascii\n",
    "from capstone import *"
   ]
  },
  {
   "cell_type": "code",
   "execution_count": 4,
   "metadata": {},
   "outputs": [],
   "source": [
    "bin_str = \"4155415455534883ec28488b05d7242b004885c00f85f60000004885ff7428488b47f8488d77f0a802752da804bf60996d00740c4889f04825000000fc488b3831d2e8c9baffff4883c4285b5d415c\""
   ]
  },
  {
   "cell_type": "code",
   "execution_count": 5,
   "metadata": {},
   "outputs": [],
   "source": [
    "bin_d = binascii.unhexlify(bin_str)"
   ]
  },
  {
   "cell_type": "code",
   "execution_count": 6,
   "metadata": {},
   "outputs": [
    {
     "name": "stdout",
     "output_type": "stream",
     "text": [
      "b'AUATUSH\\x83\\xec(H\\x8b\\x05\\xd7$+\\x00H\\x85\\xc0\\x0f\\x85\\xf6\\x00\\x00\\x00H\\x85\\xfft(H\\x8bG\\xf8H\\x8dw\\xf0\\xa8\\x02u-\\xa8\\x04\\xbf`\\x99m\\x00t\\x0cH\\x89\\xf0H%\\x00\\x00\\x00\\xfcH\\x8b81\\xd2\\xe8\\xc9\\xba\\xff\\xffH\\x83\\xc4([]A\\\\'\n"
     ]
    }
   ],
   "source": [
    "print(bin_d)"
   ]
  },
  {
   "cell_type": "code",
   "execution_count": 13,
   "metadata": {},
   "outputs": [],
   "source": [
    "md = Cs(CS_ARCH_X86, CS_MODE_64)\n",
    "md.detail = True"
   ]
  },
  {
   "cell_type": "code",
   "execution_count": 15,
   "metadata": {},
   "outputs": [
    {
     "name": "stdout",
     "output_type": "stream",
     "text": [
      "push\tr13\n",
      "push\tr12\n",
      "push\trbp\n",
      "push\trbx\n",
      "sub\trsp, 0x28\n",
      "mov\trax, qword ptr [rip + 0x2b24d7]\n",
      "test\trax, rax\n",
      "jne\t0x110\n",
      "test\trdi, rdi\n",
      "je\t0x47\n",
      "mov\trax, qword ptr [rdi - 8]\n",
      "lea\trsi, qword ptr [rdi - 0x10]\n",
      "test\tal, 2\n",
      "jne\t0x58\n",
      "test\tal, 4\n",
      "mov\tedi, 0x6d9960\n",
      "je\t0x40\n",
      "mov\trax, rsi\n",
      "and\trax, 0xfc000000\n",
      "mov\trdi, qword ptr [rax]\n",
      "xor\tedx, edx\n",
      "call\t0xffffffffffffbb10\n",
      "add\trsp, 0x28\n",
      "pop\trbx\n",
      "pop\trbp\n",
      "pop\tr12\n"
     ]
    }
   ],
   "source": [
    "for i in md.disasm( bin_d, 0):\n",
    "    print(\"{}\\t{}\".format(i.mnemonic,  i.op_str))\n",
    "    if i.id\n",
    "    "
   ]
  },
  {
   "cell_type": "code",
   "execution_count": null,
   "metadata": {},
   "outputs": [],
   "source": []
  }
 ],
 "metadata": {
  "kernelspec": {
   "display_name": "Python 3",
   "language": "python",
   "name": "python3"
  },
  "language_info": {
   "codemirror_mode": {
    "name": "ipython",
    "version": 3
   },
   "file_extension": ".py",
   "mimetype": "text/x-python",
   "name": "python",
   "nbconvert_exporter": "python",
   "pygments_lexer": "ipython3",
   "version": "3.6.3"
  }
 },
 "nbformat": 4,
 "nbformat_minor": 2
}
